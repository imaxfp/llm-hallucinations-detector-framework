{
 "cells": [
  {
   "cell_type": "code",
   "execution_count": 1,
   "metadata": {},
   "outputs": [
    {
     "name": "stderr",
     "output_type": "stream",
     "text": [
      "2024-10-29 10:49:27,766 - INFO - ====> Generate Correct Responses\n",
      "2024-10-29 10:49:27,766 - INFO - Read entities from file\n",
      "2024-10-29 10:49:27,767 - INFO - Time taken for parsing entities: 0.00 seconds\n",
      "2024-10-29 10:49:27,768 - INFO - Chat with Ollama, get responses from the models\n",
      "2024-10-29 10:49:35,457 - INFO - HTTP Request: POST http://127.0.0.1:11434/api/chat \"HTTP/1.1 200 OK\"\n",
      "2024-10-29 10:49:36,127 - INFO - HTTP Request: POST http://127.0.0.1:11434/api/chat \"HTTP/1.1 200 OK\"\n",
      "2024-10-29 10:49:36,128 - INFO - HTTP Request: POST http://127.0.0.1:11434/api/chat \"HTTP/1.1 200 OK\"\n",
      "2024-10-29 10:49:36,129 - INFO - HTTP Request: POST http://127.0.0.1:11434/api/chat \"HTTP/1.1 200 OK\"\n",
      "2024-10-29 10:49:40,733 - INFO - HTTP Request: POST http://127.0.0.1:11434/api/chat \"HTTP/1.1 200 OK\"\n",
      "2024-10-29 10:49:41,258 - INFO - HTTP Request: POST http://127.0.0.1:11434/api/chat \"HTTP/1.1 200 OK\"\n",
      "2024-10-29 10:49:41,866 - INFO - HTTP Request: POST http://127.0.0.1:11434/api/chat \"HTTP/1.1 200 OK\"\n",
      "2024-10-29 10:49:42,569 - INFO - HTTP Request: POST http://127.0.0.1:11434/api/chat \"HTTP/1.1 200 OK\"\n",
      "2024-10-29 10:49:46,141 - INFO - HTTP Request: POST http://127.0.0.1:11434/api/chat \"HTTP/1.1 200 OK\"\n",
      "2024-10-29 10:49:48,476 - INFO - HTTP Request: POST http://127.0.0.1:11434/api/chat \"HTTP/1.1 200 OK\"\n",
      "2024-10-29 10:49:49,096 - INFO - HTTP Request: POST http://127.0.0.1:11434/api/chat \"HTTP/1.1 200 OK\"\n",
      "2024-10-29 10:49:49,982 - INFO - HTTP Request: POST http://127.0.0.1:11434/api/chat \"HTTP/1.1 200 OK\"\n",
      "2024-10-29 10:49:52,131 - INFO - HTTP Request: POST http://127.0.0.1:11434/api/chat \"HTTP/1.1 200 OK\"\n",
      "2024-10-29 10:49:54,546 - INFO - HTTP Request: POST http://127.0.0.1:11434/api/chat \"HTTP/1.1 200 OK\"\n",
      "2024-10-29 10:49:56,104 - INFO - HTTP Request: POST http://127.0.0.1:11434/api/chat \"HTTP/1.1 200 OK\"\n",
      "2024-10-29 10:49:56,715 - INFO - HTTP Request: POST http://127.0.0.1:11434/api/chat \"HTTP/1.1 200 OK\"\n",
      "2024-10-29 10:49:59,535 - INFO - HTTP Request: POST http://127.0.0.1:11434/api/chat \"HTTP/1.1 200 OK\"\n",
      "2024-10-29 10:50:00,757 - INFO - HTTP Request: POST http://127.0.0.1:11434/api/chat \"HTTP/1.1 200 OK\"\n",
      "2024-10-29 10:50:01,715 - INFO - HTTP Request: POST http://127.0.0.1:11434/api/chat \"HTTP/1.1 200 OK\"\n",
      "2024-10-29 10:50:02,924 - INFO - HTTP Request: POST http://127.0.0.1:11434/api/chat \"HTTP/1.1 200 OK\"\n",
      "2024-10-29 10:50:07,203 - INFO - Time taken for chatting with models: 39.43 seconds\n",
      "2024-10-29 10:50:07,205 - INFO - Answers to embeddings\n",
      "2024-10-29 10:50:07,504 - INFO - HTTP Request: POST http://127.0.0.1:11434/api/embed \"HTTP/1.1 200 OK\"\n",
      "2024-10-29 10:50:07,873 - INFO - HTTP Request: POST http://127.0.0.1:11434/api/embed \"HTTP/1.1 200 OK\"\n",
      "2024-10-29 10:50:08,259 - INFO - HTTP Request: POST http://127.0.0.1:11434/api/embed \"HTTP/1.1 200 OK\"\n",
      "2024-10-29 10:50:08,531 - INFO - HTTP Request: POST http://127.0.0.1:11434/api/embed \"HTTP/1.1 200 OK\"\n",
      "2024-10-29 10:50:08,913 - INFO - HTTP Request: POST http://127.0.0.1:11434/api/embed \"HTTP/1.1 200 OK\"\n",
      "2024-10-29 10:50:09,288 - INFO - HTTP Request: POST http://127.0.0.1:11434/api/embed \"HTTP/1.1 200 OK\"\n",
      "2024-10-29 10:50:09,552 - INFO - HTTP Request: POST http://127.0.0.1:11434/api/embed \"HTTP/1.1 200 OK\"\n",
      "2024-10-29 10:50:09,922 - INFO - HTTP Request: POST http://127.0.0.1:11434/api/embed \"HTTP/1.1 200 OK\"\n",
      "2024-10-29 10:50:10,409 - INFO - HTTP Request: POST http://127.0.0.1:11434/api/embed \"HTTP/1.1 200 OK\"\n",
      "2024-10-29 10:50:10,784 - INFO - HTTP Request: POST http://127.0.0.1:11434/api/embed \"HTTP/1.1 200 OK\"\n",
      "2024-10-29 10:50:11,160 - INFO - HTTP Request: POST http://127.0.0.1:11434/api/embed \"HTTP/1.1 200 OK\"\n",
      "2024-10-29 10:50:11,532 - INFO - HTTP Request: POST http://127.0.0.1:11434/api/embed \"HTTP/1.1 200 OK\"\n",
      "2024-10-29 10:50:11,904 - INFO - HTTP Request: POST http://127.0.0.1:11434/api/embed \"HTTP/1.1 200 OK\"\n",
      "2024-10-29 10:50:12,283 - INFO - HTTP Request: POST http://127.0.0.1:11434/api/embed \"HTTP/1.1 200 OK\"\n",
      "2024-10-29 10:50:12,555 - INFO - HTTP Request: POST http://127.0.0.1:11434/api/embed \"HTTP/1.1 200 OK\"\n",
      "2024-10-29 10:50:12,931 - INFO - HTTP Request: POST http://127.0.0.1:11434/api/embed \"HTTP/1.1 200 OK\"\n",
      "2024-10-29 10:50:13,306 - INFO - HTTP Request: POST http://127.0.0.1:11434/api/embed \"HTTP/1.1 200 OK\"\n",
      "2024-10-29 10:50:13,572 - INFO - HTTP Request: POST http://127.0.0.1:11434/api/embed \"HTTP/1.1 200 OK\"\n",
      "2024-10-29 10:50:13,951 - INFO - HTTP Request: POST http://127.0.0.1:11434/api/embed \"HTTP/1.1 200 OK\"\n",
      "2024-10-29 10:50:14,326 - INFO - HTTP Request: POST http://127.0.0.1:11434/api/embed \"HTTP/1.1 200 OK\"\n",
      "2024-10-29 10:50:14,329 - INFO - Time taken for chatting with models: 7.12 seconds\n",
      "2024-10-29 10:50:14,330 - INFO - Store results\n",
      "2024-10-29 10:50:14,383 - INFO - Time taken for storing results: 0.05 seconds\n",
      "2024-10-29 10:50:14,384 - INFO - Time taken for total execution: 46.62 seconds\n"
     ]
    }
   ],
   "source": [
    "import logging\n",
    "\n",
    "from src.services.ollama_service import LLM_MODELS, OllamaChat\n",
    "START_LINE = 0\n",
    "STOP_LINE = 20\n",
    "USED_MODELS = \"_\".join(LLM_MODELS)\n",
    "\n",
    "ollamaChat = OllamaChat()\n",
    "logging.info(\"====> Generate Correct Responses\")\n",
    "\n",
    "ollamaChat.chat_ollama_get_llm_answers_with_embedding_save_response(\"./data/Natural-Questions-Base-2k.csv\",\n",
    "                                                                    f\"./data/llm_responses/NQ-llm-correct_answers_{USED_MODELS}.csv\",\n",
    "                                                                    \"\",\n",
    "                                                                    START_LINE,\n",
    "                                                                    STOP_LINE)"
   ]
  }
 ],
 "metadata": {
  "kernelspec": {
   "display_name": "Python 3",
   "language": "python",
   "name": "python3"
  },
  "language_info": {
   "codemirror_mode": {
    "name": "ipython",
    "version": 3
   },
   "file_extension": ".py",
   "mimetype": "text/x-python",
   "name": "python",
   "nbconvert_exporter": "python",
   "pygments_lexer": "ipython3",
   "version": "3.9.6"
  }
 },
 "nbformat": 4,
 "nbformat_minor": 2
}
