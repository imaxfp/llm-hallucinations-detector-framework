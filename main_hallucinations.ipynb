{
 "cells": [
  {
   "cell_type": "code",
   "execution_count": null,
   "metadata": {},
   "outputs": [],
   "source": [
    "from src.services.embedding_visualizer_service import EmbeddingVisualizer\n",
    "\n",
    "true_answer_columns = ['true_answer_embedding_llama3.1']    \n",
    "llm_generation_columns = [ 'embedding_llama3.1']      \n",
    "\n",
    "vis = EmbeddingVisualizer('./data/NQ-LLM-responses.csv', './data/results/pca_2d')\n",
    "vis.load_data()\n",
    "vis.process_embeddings_padding(true_answer_columns, llm_generation_columns)\n",
    "vis.apply_umap(n_components=2)\n",
    "vis.plot_umap_2d(title=\"LLMs Natural Questions answers\", save_path='./data/results/umap_2d.png')"
   ]
  },
  {
   "cell_type": "code",
   "execution_count": null,
   "metadata": {},
   "outputs": [],
   "source": [
    "from src.services.embedding_visualizer_service import EmbeddingVisualizer\n",
    "\n",
    "true_answer_columns = ['true_answer_embedding_llama3.1']    \n",
    "llm_generation_columns = [ 'embedding_llama3.1']      \n",
    "\n",
    "vis = EmbeddingVisualizer('./data/Fabrication-NQ-LLM-responses.csv', './data/results/pca_2d')\n",
    "vis.load_data()\n",
    "vis.process_embeddings_padding(true_answer_columns, llm_generation_columns)\n",
    "vis.apply_umap(n_components=2)\n",
    "vis.plot_umap_2d(title=\"LLMs fabrication hallucinations\", save_path='./data/results/umap_2d.png')"
   ]
  }
 ],
 "metadata": {
  "kernelspec": {
   "display_name": "venv",
   "language": "python",
   "name": "python3"
  },
  "language_info": {
   "codemirror_mode": {
    "name": "ipython",
    "version": 3
   },
   "file_extension": ".py",
   "mimetype": "text/x-python",
   "name": "python",
   "nbconvert_exporter": "python",
   "pygments_lexer": "ipython3",
   "version": "3.12.5"
  }
 },
 "nbformat": 4,
 "nbformat_minor": 2
}
