{
 "cells": [
  {
   "cell_type": "code",
   "execution_count": null,
   "metadata": {},
   "outputs": [],
   "source": [
    "import logging\n",
    "from src.services.ollama_service import LLM_MODELS, OllamaChat\n",
    "START_LINE = 0\n",
    "STOP_LINE = 500\n",
    "USED_MODELS = \"_\".join(LLM_MODELS)\n",
    "\n",
    "ollamaChat = OllamaChat()\n",
    "\n",
    "logging.info(\"====> Generate Fabrication\")\n",
    "prompt_rule = \"Your have to generate 'Fabrication' hallucination in your response. Fabrication: The model generates entirely false information that has no basis in reality or the training data.\"    \n",
    "\n",
    "ollamaChat.chat_ollama_get_llm_answers_with_embedding_save_response(\"./data/Natural-Questions-Base_long_answer_min_words_50_max_words_70.csv\",\n",
    "                                                                    f\"./data/llm_responses/NQ-llm-fabrication_{USED_MODELS}.csv\",\n",
    "                                                                    prompt_rule,\n",
    "                                                                    START_LINE,\n",
    "                                                                    STOP_LINE)"
   ]
  }
 ],
 "metadata": {
  "kernelspec": {
   "display_name": "Python 3",
   "language": "python",
   "name": "python3"
  },
  "language_info": {
   "codemirror_mode": {
    "name": "ipython",
    "version": 3
   },
   "file_extension": ".py",
   "mimetype": "text/x-python",
   "name": "python",
   "nbconvert_exporter": "python",
   "pygments_lexer": "ipython3",
   "version": "3.9.6"
  }
 },
 "nbformat": 4,
 "nbformat_minor": 2
}
