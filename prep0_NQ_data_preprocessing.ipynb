{
 "cells": [
  {
   "cell_type": "code",
   "execution_count": null,
   "metadata": {},
   "outputs": [
    {
     "name": "stderr",
     "output_type": "stream",
     "text": [
      "2024-11-06 13:57:48,756 - INFO - ====> Natural-Questions-Base.csv preparation\n",
      "2024-11-06 13:57:55,719 - INFO - Dataset shape after preparation = (16388, 3)\n"
     ]
    }
   ],
   "source": [
    "import logging\n",
    "import uuid\n",
    "import pandas as pd \n",
    "\n",
    "MIN_WORDS_IN_ANSW = 50\n",
    "MAX_WORDS_IN_ANSW = 70\n",
    "\n",
    "logging.info(\"====> Natural-Questions-Base.csv preparation\")\n",
    "\n",
    "def word_count(text):\n",
    "    return len(str(text).split())\n",
    "   \n",
    "nq_data = pd.read_csv('./data/Natural-Questions-Base.csv')\n",
    "nq_data.drop(columns=['short_answers'], inplace=True)\n",
    "nq_data.rename(columns={'long_answers': 'true_expected_long_answers'}, inplace=True)\n",
    "nq_data.insert(0, 'uid', [str(uuid.uuid4()) for _ in range(len(nq_data))])\n",
    "nq_data = nq_data[(nq_data['true_expected_long_answers'].apply(word_count) >= MIN_WORDS_IN_ANSW) \n",
    "                                & (nq_data['true_expected_long_answers'].apply(word_count) <= MAX_WORDS_IN_ANSW)]\n",
    "\n",
    "logging.info(f'Dataset shape after preparation = {nq_data.shape}')\n",
    "\n",
    "# Save the result to a new CSV file\n",
    "nq_data.to_csv(f'./data/Natural-Questions-Base_long_answer_min_words_{MIN_WORDS_IN_ANSW}_max_words_{MAX_WORDS_IN_ANSW}.csv', index=False)\n",
    "\n"
   ]
  }
 ],
 "metadata": {
  "kernelspec": {
   "display_name": "Python 3",
   "language": "python",
   "name": "python3"
  },
  "language_info": {
   "codemirror_mode": {
    "name": "ipython",
    "version": 3
   },
   "file_extension": ".py",
   "mimetype": "text/x-python",
   "name": "python",
   "nbconvert_exporter": "python",
   "pygments_lexer": "ipython3",
   "version": "3.9.6"
  }
 },
 "nbformat": 4,
 "nbformat_minor": 2
}
