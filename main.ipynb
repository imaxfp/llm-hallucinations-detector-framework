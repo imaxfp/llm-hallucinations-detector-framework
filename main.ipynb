{
 "cells": [
  {
   "cell_type": "code",
   "execution_count": 1,
   "metadata": {},
   "outputs": [
    {
     "name": "stdout",
     "output_type": "stream",
     "text": [
      "UID: f57adb4b-f51e-4fa1-8358-b278a183083e\n",
      "Question: which is the most common use of opt-in e-mail marketing\n",
      "True Answer: <P> A common example of permission marketing is a newsletter sent to an advertis...\n",
      "True Answer Embeddings: {'phi3': '[[-0.028109748, 0.018774658, 0.0053926394, 0.01567391, 0.011160368, 0....\n",
      "LLM Answers: {'phi3': \"The most common use of opt-in email marketing is for businesses and or...\n",
      "LLM Embeddings: {'phi3': '[[-0.028109748, 0.018774658, 0.0053926394, 0.01567391, 0.011160368, 0....\n",
      "\n"
     ]
    }
   ],
   "source": [
    "#Read data\n",
    "import pandas as pd\n",
    "\n",
    "from src.services import natural_questions_data_service\n",
    "pd.set_option('display.max_rows', 10)\n",
    "import warnings\n",
    "warnings.filterwarnings(\"ignore\")\n",
    "\n",
    "\n",
    "parser = natural_questions_data_service.NaturalQuestionsParser(\"./data/Natural-Questions-LLM-responses.csv\")\n",
    "llm_results = parser.read_llm_results_from_csv()\n",
    "print(llm_results[0])"
   ]
  }
 ],
 "metadata": {
  "kernelspec": {
   "display_name": "venv",
   "language": "python",
   "name": "python3"
  },
  "language_info": {
   "codemirror_mode": {
    "name": "ipython",
    "version": 3
   },
   "file_extension": ".py",
   "mimetype": "text/x-python",
   "name": "python",
   "nbconvert_exporter": "python",
   "pygments_lexer": "ipython3",
   "version": "3.12.5"
  }
 },
 "nbformat": 4,
 "nbformat_minor": 2
}
