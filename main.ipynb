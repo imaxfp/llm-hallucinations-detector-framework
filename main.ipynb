{
 "cells": [
  {
   "cell_type": "code",
   "execution_count": 7,
   "metadata": {},
   "outputs": [],
   "source": [
    "#Read data\n",
    "import pandas as pd\n",
    "\n",
    "from src.services import natural_questions_data_service\n",
    "pd.set_option('display.max_rows', 10)\n",
    "import warnings\n",
    "warnings.filterwarnings(\"ignore\")\n",
    "\n",
    "\n",
    "parser = natural_questions_data_service.NaturalQuestionsParser(\"./data/Natural-Questions-LLM-responses.csv\")\n",
    "llm_results = parser.read_llm_results_from_csv()"
   ]
  }
 ],
 "metadata": {
  "kernelspec": {
   "display_name": "venv",
   "language": "python",
   "name": "python3"
  },
  "language_info": {
   "codemirror_mode": {
    "name": "ipython",
    "version": 3
   },
   "file_extension": ".py",
   "mimetype": "text/x-python",
   "name": "python",
   "nbconvert_exporter": "python",
   "pygments_lexer": "ipython3",
   "version": "3.12.5"
  }
 },
 "nbformat": 4,
 "nbformat_minor": 2
}
