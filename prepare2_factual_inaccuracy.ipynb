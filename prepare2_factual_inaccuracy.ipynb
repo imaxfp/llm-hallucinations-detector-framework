{
 "cells": [
  {
   "cell_type": "code",
   "execution_count": 3,
   "metadata": {},
   "outputs": [
    {
     "name": "stderr",
     "output_type": "stream",
     "text": [
      "2024-10-28 20:09:36,185 - INFO - ====> Generate Correct Responses\n",
      "2024-10-28 20:09:36,186 - INFO - Read entities from file\n",
      "2024-10-28 20:09:36,187 - INFO - Time taken for parsing entities: 0.00 seconds\n",
      "2024-10-28 20:09:36,188 - INFO - Chat with Ollama, get responses from the models\n",
      "2024-10-28 20:09:36,839 - INFO - HTTP Request: POST http://127.0.0.1:11434/api/chat \"HTTP/1.1 200 OK\"\n",
      "2024-10-28 20:09:37,514 - INFO - HTTP Request: POST http://127.0.0.1:11434/api/chat \"HTTP/1.1 200 OK\"\n",
      "2024-10-28 20:09:37,516 - INFO - HTTP Request: POST http://127.0.0.1:11434/api/chat \"HTTP/1.1 200 OK\"\n",
      "2024-10-28 20:09:41,858 - INFO - Time taken for chatting with models: 5.67 seconds\n",
      "2024-10-28 20:09:41,860 - INFO - Answers to embeddings\n",
      "2024-10-28 20:09:42,233 - INFO - HTTP Request: POST http://127.0.0.1:11434/api/embed \"HTTP/1.1 200 OK\"\n",
      "2024-10-28 20:09:42,608 - INFO - HTTP Request: POST http://127.0.0.1:11434/api/embed \"HTTP/1.1 200 OK\"\n",
      "2024-10-28 20:09:42,881 - INFO - HTTP Request: POST http://127.0.0.1:11434/api/embed \"HTTP/1.1 200 OK\"\n",
      "2024-10-28 20:09:42,886 - INFO - Time taken for chatting with models: 1.02 seconds\n",
      "2024-10-28 20:09:42,886 - INFO - Store results\n",
      "2024-10-28 20:09:42,904 - INFO - Time taken for storing results: 0.02 seconds\n",
      "2024-10-28 20:09:42,904 - INFO - Time taken for total execution: 6.72 seconds\n"
     ]
    }
   ],
   "source": [
    "import logging\n",
    "\n",
    "from src.services.ollama_service import OllamaChat\n",
    "START_LINE = 0\n",
    "STOP_LINE = 30\n",
    "\n",
    "ollamaChat = OllamaChat()\n",
    "prompt_rule = \"Your have to generate 'Factual Inaccuracy' hallucination in your response. Factual Inaccuracy: The model presents incorrect facts, such as wrong numbers, dates, or other factual information, but doesn't invent completely new data.\"    \n",
    "logging.info(\"====> Generate Correct Responses\")\n",
    "ollamaChat.chat_ollama_get_llm_answers_with_embedding_save_response(\"./data/Natural-Questions-Base-2k.csv\",\n",
    "                                                                    \"./data/llm_responses/NQ-llm-factual-inaccuracy.csv\", \n",
    "                                                                    prompt_rule,\n",
    "                                                                    START_LINE,\n",
    "                                                                    STOP_LINE)"
   ]
  }
 ],
 "metadata": {
  "kernelspec": {
   "display_name": "Python 3",
   "language": "python",
   "name": "python3"
  },
  "language_info": {
   "codemirror_mode": {
    "name": "ipython",
    "version": 3
   },
   "file_extension": ".py",
   "mimetype": "text/x-python",
   "name": "python",
   "nbconvert_exporter": "python",
   "pygments_lexer": "ipython3",
   "version": "3.9.6"
  }
 },
 "nbformat": 4,
 "nbformat_minor": 2
}
