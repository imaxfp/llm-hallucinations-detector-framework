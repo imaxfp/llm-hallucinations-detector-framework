{
 "cells": [
  {
   "cell_type": "code",
   "execution_count": 1,
   "metadata": {},
   "outputs": [
    {
     "name": "stderr",
     "output_type": "stream",
     "text": [
      "2024-10-29 10:23:47,460 - INFO - ====> Generate Factual Inaccuracy\n",
      "2024-10-29 10:23:47,460 - INFO - Read entities from file\n",
      "2024-10-29 10:23:47,461 - INFO - Time taken for parsing entities: 0.00 seconds\n",
      "2024-10-29 10:23:47,461 - INFO - Chat with Ollama, get responses from the models\n",
      "2024-10-29 10:23:50,356 - INFO - HTTP Request: POST http://127.0.0.1:11434/api/chat \"HTTP/1.1 200 OK\"\n",
      "2024-10-29 10:23:50,358 - INFO - HTTP Request: POST http://127.0.0.1:11434/api/chat \"HTTP/1.1 200 OK\"\n",
      "2024-10-29 10:23:50,358 - INFO - HTTP Request: POST http://127.0.0.1:11434/api/chat \"HTTP/1.1 200 OK\"\n",
      "2024-10-29 10:23:50,358 - INFO - HTTP Request: POST http://127.0.0.1:11434/api/chat \"HTTP/1.1 200 OK\"\n",
      "2024-10-29 10:23:55,478 - INFO - HTTP Request: POST http://127.0.0.1:11434/api/chat \"HTTP/1.1 200 OK\"\n",
      "2024-10-29 10:23:56,110 - INFO - HTTP Request: POST http://127.0.0.1:11434/api/chat \"HTTP/1.1 200 OK\"\n",
      "2024-10-29 10:23:56,253 - INFO - HTTP Request: POST http://127.0.0.1:11434/api/chat \"HTTP/1.1 200 OK\"\n",
      "2024-10-29 10:23:56,615 - INFO - HTTP Request: POST http://127.0.0.1:11434/api/chat \"HTTP/1.1 200 OK\"\n",
      "2024-10-29 10:24:01,861 - INFO - HTTP Request: POST http://127.0.0.1:11434/api/chat \"HTTP/1.1 200 OK\"\n",
      "2024-10-29 10:24:02,010 - INFO - HTTP Request: POST http://127.0.0.1:11434/api/chat \"HTTP/1.1 200 OK\"\n",
      "2024-10-29 10:24:02,011 - INFO - HTTP Request: POST http://127.0.0.1:11434/api/chat \"HTTP/1.1 200 OK\"\n",
      "2024-10-29 10:24:02,544 - INFO - HTTP Request: POST http://127.0.0.1:11434/api/chat \"HTTP/1.1 200 OK\"\n",
      "2024-10-29 10:24:07,704 - INFO - HTTP Request: POST http://127.0.0.1:11434/api/chat \"HTTP/1.1 200 OK\"\n",
      "2024-10-29 10:24:07,849 - INFO - HTTP Request: POST http://127.0.0.1:11434/api/chat \"HTTP/1.1 200 OK\"\n",
      "2024-10-29 10:24:08,542 - INFO - HTTP Request: POST http://127.0.0.1:11434/api/chat \"HTTP/1.1 200 OK\"\n",
      "2024-10-29 10:24:09,845 - INFO - HTTP Request: POST http://127.0.0.1:11434/api/chat \"HTTP/1.1 200 OK\"\n",
      "2024-10-29 10:24:14,110 - INFO - HTTP Request: POST http://127.0.0.1:11434/api/chat \"HTTP/1.1 200 OK\"\n",
      "2024-10-29 10:24:14,111 - INFO - HTTP Request: POST http://127.0.0.1:11434/api/chat \"HTTP/1.1 200 OK\"\n",
      "2024-10-29 10:24:14,735 - INFO - HTTP Request: POST http://127.0.0.1:11434/api/chat \"HTTP/1.1 200 OK\"\n",
      "2024-10-29 10:24:15,461 - INFO - HTTP Request: POST http://127.0.0.1:11434/api/chat \"HTTP/1.1 200 OK\"\n",
      "2024-10-29 10:24:21,149 - INFO - Time taken for chatting with models: 33.69 seconds\n",
      "2024-10-29 10:24:21,152 - INFO - Answers to embeddings\n",
      "2024-10-29 10:24:21,543 - INFO - HTTP Request: POST http://127.0.0.1:11434/api/embed \"HTTP/1.1 200 OK\"\n",
      "2024-10-29 10:24:21,923 - INFO - HTTP Request: POST http://127.0.0.1:11434/api/embed \"HTTP/1.1 200 OK\"\n",
      "2024-10-29 10:24:22,194 - INFO - HTTP Request: POST http://127.0.0.1:11434/api/embed \"HTTP/1.1 200 OK\"\n",
      "2024-10-29 10:24:22,568 - INFO - HTTP Request: POST http://127.0.0.1:11434/api/embed \"HTTP/1.1 200 OK\"\n",
      "2024-10-29 10:24:22,947 - INFO - HTTP Request: POST http://127.0.0.1:11434/api/embed \"HTTP/1.1 200 OK\"\n",
      "2024-10-29 10:24:23,321 - INFO - HTTP Request: POST http://127.0.0.1:11434/api/embed \"HTTP/1.1 200 OK\"\n",
      "2024-10-29 10:24:23,699 - INFO - HTTP Request: POST http://127.0.0.1:11434/api/embed \"HTTP/1.1 200 OK\"\n",
      "2024-10-29 10:24:24,072 - INFO - HTTP Request: POST http://127.0.0.1:11434/api/embed \"HTTP/1.1 200 OK\"\n",
      "2024-10-29 10:24:24,459 - INFO - HTTP Request: POST http://127.0.0.1:11434/api/embed \"HTTP/1.1 200 OK\"\n",
      "2024-10-29 10:24:24,736 - INFO - HTTP Request: POST http://127.0.0.1:11434/api/embed \"HTTP/1.1 200 OK\"\n",
      "2024-10-29 10:24:25,119 - INFO - HTTP Request: POST http://127.0.0.1:11434/api/embed \"HTTP/1.1 200 OK\"\n",
      "2024-10-29 10:24:25,496 - INFO - HTTP Request: POST http://127.0.0.1:11434/api/embed \"HTTP/1.1 200 OK\"\n",
      "2024-10-29 10:24:25,868 - INFO - HTTP Request: POST http://127.0.0.1:11434/api/embed \"HTTP/1.1 200 OK\"\n",
      "2024-10-29 10:24:26,139 - INFO - HTTP Request: POST http://127.0.0.1:11434/api/embed \"HTTP/1.1 200 OK\"\n",
      "2024-10-29 10:24:26,512 - INFO - HTTP Request: POST http://127.0.0.1:11434/api/embed \"HTTP/1.1 200 OK\"\n",
      "2024-10-29 10:24:26,780 - INFO - HTTP Request: POST http://127.0.0.1:11434/api/embed \"HTTP/1.1 200 OK\"\n",
      "2024-10-29 10:24:27,150 - INFO - HTTP Request: POST http://127.0.0.1:11434/api/embed \"HTTP/1.1 200 OK\"\n",
      "2024-10-29 10:24:27,525 - INFO - HTTP Request: POST http://127.0.0.1:11434/api/embed \"HTTP/1.1 200 OK\"\n",
      "2024-10-29 10:24:27,904 - INFO - HTTP Request: POST http://127.0.0.1:11434/api/embed \"HTTP/1.1 200 OK\"\n",
      "2024-10-29 10:24:28,277 - INFO - HTTP Request: POST http://127.0.0.1:11434/api/embed \"HTTP/1.1 200 OK\"\n",
      "2024-10-29 10:24:28,279 - INFO - Time taken for chatting with models: 7.13 seconds\n",
      "2024-10-29 10:24:28,279 - INFO - Store results\n",
      "2024-10-29 10:24:28,328 - INFO - Time taken for storing results: 0.05 seconds\n",
      "2024-10-29 10:24:28,329 - INFO - Time taken for total execution: 40.87 seconds\n"
     ]
    }
   ],
   "source": [
    "import logging\n",
    "from src.services.ollama_service import LLM_MODELS, OllamaChat\n",
    "START_LINE = 0\n",
    "STOP_LINE = 20\n",
    "USED_MODELS = \"_\".join(LLM_MODELS)\n",
    "\n",
    "ollamaChat = OllamaChat()\n",
    "logging.info(\"====> Generate Factual Inaccuracy\")\n",
    "\n",
    "prompt_rule = \"Your have to generate 'Factual Inaccuracy' hallucination in your response. Factual Inaccuracy: The model presents incorrect facts, such as wrong numbers, dates, or other factual information, but doesn't invent completely new data.\"    \n",
    "ollamaChat.chat_ollama_get_llm_answers_with_embedding_save_response(\"./data/Natural-Questions-Base-2k.csv\",\n",
    "                                                                    f\"./data/llm_responses/NQ-llm-factual_inaccuracy_{USED_MODELS}.csv\",\n",
    "                                                                    prompt_rule,\n",
    "                                                                    START_LINE,\n",
    "                                                                    STOP_LINE)"
   ]
  }
 ],
 "metadata": {
  "kernelspec": {
   "display_name": "Python 3",
   "language": "python",
   "name": "python3"
  },
  "language_info": {
   "codemirror_mode": {
    "name": "ipython",
    "version": 3
   },
   "file_extension": ".py",
   "mimetype": "text/x-python",
   "name": "python",
   "nbconvert_exporter": "python",
   "pygments_lexer": "ipython3",
   "version": "3.9.6"
  }
 },
 "nbformat": 4,
 "nbformat_minor": 2
}
