{
 "cells": [
  {
   "cell_type": "code",
   "execution_count": null,
   "metadata": {},
   "outputs": [
    {
     "name": "stderr",
     "output_type": "stream",
     "text": [
      "2024-11-05 13:39:43,056 - INFO - ====> Generate Correct Responses\n",
      "2024-11-05 13:39:43,061 - INFO - Read entities from file\n",
      "2024-11-05 13:39:43,088 - INFO - Time taken for parsing entities: 0.02 seconds\n",
      "2024-11-05 13:39:45,898 - INFO - HTTP Request: POST http://127.0.0.1:11434/api/embed \"HTTP/1.1 200 OK\"\n",
      "2024-11-05 13:39:46,165 - INFO - HTTP Request: POST http://127.0.0.1:11434/api/embed \"HTTP/1.1 200 OK\"\n",
      "2024-11-05 13:39:46,171 - INFO - Store results\n",
      "2024-11-05 13:39:46,701 - INFO - Time taken for storing results: 0.53 seconds\n",
      "2024-11-05 13:39:46,702 - INFO - Time taken for total execution: 3.64 seconds\n"
     ]
    }
   ],
   "source": [
    "import logging\n",
    "\n",
    "from src.services.ollama_service import LLM_MODELS, OllamaChat\n",
    "START_LINE = 502\n",
    "STOP_LINE = 1000\n",
    "USED_MODELS = \"_\".join(LLM_MODELS)\n",
    "\n",
    "ollamaChat = OllamaChat()\n",
    "logging.info(\"====> Generate Correct Responses\")\n",
    "\n",
    "ollamaChat.true_answers_to_embeddings_save_response(\"./data/Natural-Questions-Base-2k.csv\",\n",
    "                                                    f\"./data/llm_responses/NQ-true-answers_{USED_MODELS}.csv\",\n",
    "                                                    START_LINE,\n",
    "                                                    STOP_LINE)"
   ]
  }
 ],
 "metadata": {
  "kernelspec": {
   "display_name": "Python 3",
   "language": "python",
   "name": "python3"
  },
  "language_info": {
   "codemirror_mode": {
    "name": "ipython",
    "version": 3
   },
   "file_extension": ".py",
   "mimetype": "text/x-python",
   "name": "python",
   "nbconvert_exporter": "python",
   "pygments_lexer": "ipython3",
   "version": "3.9.6"
  }
 },
 "nbformat": 4,
 "nbformat_minor": 2
}
