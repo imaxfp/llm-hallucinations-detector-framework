{
 "cells": [
  {
   "cell_type": "code",
   "execution_count": 4,
   "metadata": {},
   "outputs": [
    {
     "name": "stderr",
     "output_type": "stream",
     "text": [
      "2024-10-28 20:12:14,847 - INFO - ====> Generate Correct Responses\n",
      "2024-10-28 20:12:14,849 - INFO - Read entities from file\n",
      "2024-10-28 20:12:14,850 - INFO - Time taken for parsing entities: 0.00 seconds\n",
      "2024-10-28 20:12:17,940 - INFO - HTTP Request: POST http://127.0.0.1:11434/api/embed \"HTTP/1.1 200 OK\"\n",
      "2024-10-28 20:12:18,366 - INFO - HTTP Request: POST http://127.0.0.1:11434/api/embed \"HTTP/1.1 200 OK\"\n",
      "2024-10-28 20:12:18,961 - INFO - HTTP Request: POST http://127.0.0.1:11434/api/embed \"HTTP/1.1 200 OK\"\n",
      "2024-10-28 20:12:19,235 - INFO - HTTP Request: POST http://127.0.0.1:11434/api/embed \"HTTP/1.1 200 OK\"\n",
      "2024-10-28 20:12:19,640 - INFO - HTTP Request: POST http://127.0.0.1:11434/api/embed \"HTTP/1.1 200 OK\"\n",
      "2024-10-28 20:12:19,922 - INFO - HTTP Request: POST http://127.0.0.1:11434/api/embed \"HTTP/1.1 200 OK\"\n",
      "2024-10-28 20:12:20,305 - INFO - HTTP Request: POST http://127.0.0.1:11434/api/embed \"HTTP/1.1 200 OK\"\n",
      "2024-10-28 20:12:20,568 - INFO - HTTP Request: POST http://127.0.0.1:11434/api/embed \"HTTP/1.1 200 OK\"\n",
      "2024-10-28 20:12:20,953 - INFO - HTTP Request: POST http://127.0.0.1:11434/api/embed \"HTTP/1.1 200 OK\"\n",
      "2024-10-28 20:12:21,355 - INFO - HTTP Request: POST http://127.0.0.1:11434/api/embed \"HTTP/1.1 200 OK\"\n",
      "2024-10-28 20:12:21,636 - INFO - HTTP Request: POST http://127.0.0.1:11434/api/embed \"HTTP/1.1 200 OK\"\n",
      "2024-10-28 20:12:21,970 - INFO - HTTP Request: POST http://127.0.0.1:11434/api/embed \"HTTP/1.1 200 OK\"\n",
      "2024-10-28 20:12:22,350 - INFO - HTTP Request: POST http://127.0.0.1:11434/api/embed \"HTTP/1.1 200 OK\"\n",
      "2024-10-28 20:12:22,725 - INFO - HTTP Request: POST http://127.0.0.1:11434/api/embed \"HTTP/1.1 200 OK\"\n",
      "2024-10-28 20:12:23,102 - INFO - HTTP Request: POST http://127.0.0.1:11434/api/embed \"HTTP/1.1 200 OK\"\n",
      "2024-10-28 20:12:23,493 - INFO - HTTP Request: POST http://127.0.0.1:11434/api/embed \"HTTP/1.1 200 OK\"\n",
      "2024-10-28 20:12:23,891 - INFO - HTTP Request: POST http://127.0.0.1:11434/api/embed \"HTTP/1.1 200 OK\"\n",
      "2024-10-28 20:12:24,047 - INFO - HTTP Request: POST http://127.0.0.1:11434/api/embed \"HTTP/1.1 200 OK\"\n",
      "2024-10-28 20:12:24,419 - INFO - HTTP Request: POST http://127.0.0.1:11434/api/embed \"HTTP/1.1 200 OK\"\n",
      "2024-10-28 20:12:24,680 - INFO - HTTP Request: POST http://127.0.0.1:11434/api/embed \"HTTP/1.1 200 OK\"\n",
      "2024-10-28 20:12:25,058 - INFO - HTTP Request: POST http://127.0.0.1:11434/api/embed \"HTTP/1.1 200 OK\"\n",
      "2024-10-28 20:12:25,326 - INFO - HTTP Request: POST http://127.0.0.1:11434/api/embed \"HTTP/1.1 200 OK\"\n",
      "2024-10-28 20:12:25,596 - INFO - HTTP Request: POST http://127.0.0.1:11434/api/embed \"HTTP/1.1 200 OK\"\n",
      "2024-10-28 20:12:25,857 - INFO - HTTP Request: POST http://127.0.0.1:11434/api/embed \"HTTP/1.1 200 OK\"\n",
      "2024-10-28 20:12:26,119 - INFO - HTTP Request: POST http://127.0.0.1:11434/api/embed \"HTTP/1.1 200 OK\"\n",
      "2024-10-28 20:12:26,487 - INFO - HTTP Request: POST http://127.0.0.1:11434/api/embed \"HTTP/1.1 200 OK\"\n",
      "2024-10-28 20:12:26,868 - INFO - HTTP Request: POST http://127.0.0.1:11434/api/embed \"HTTP/1.1 200 OK\"\n",
      "2024-10-28 20:12:27,028 - INFO - HTTP Request: POST http://127.0.0.1:11434/api/embed \"HTTP/1.1 200 OK\"\n",
      "2024-10-28 20:12:27,181 - INFO - HTTP Request: POST http://127.0.0.1:11434/api/embed \"HTTP/1.1 200 OK\"\n",
      "2024-10-28 20:12:27,451 - INFO - HTTP Request: POST http://127.0.0.1:11434/api/embed \"HTTP/1.1 200 OK\"\n",
      "2024-10-28 20:12:27,457 - INFO - Store results\n",
      "2024-10-28 20:12:27,532 - INFO - Time taken for storing results: 0.07 seconds\n",
      "2024-10-28 20:12:27,532 - INFO - Time taken for total execution: 12.68 seconds\n"
     ]
    }
   ],
   "source": [
    "import logging\n",
    "\n",
    "from src.services.ollama_service import OllamaChat\n",
    "START_LINE = 0\n",
    "STOP_LINE = 30\n",
    "\n",
    "ollamaChat = OllamaChat()\n",
    "logging.info(\"====> Generate Correct Responses\")\n",
    "\n",
    "ollamaChat.true_answers_to_embeddings_save_response(\"./data/Natural-Questions-Base-2k.csv\",\n",
    "                                                    \"./data/llm_responses/NQ-llm-true-answers-with-embeddings.csv\",\n",
    "                                                    START_LINE,\n",
    "                                                    STOP_LINE)"
   ]
  }
 ],
 "metadata": {
  "kernelspec": {
   "display_name": "Python 3",
   "language": "python",
   "name": "python3"
  },
  "language_info": {
   "codemirror_mode": {
    "name": "ipython",
    "version": 3
   },
   "file_extension": ".py",
   "mimetype": "text/x-python",
   "name": "python",
   "nbconvert_exporter": "python",
   "pygments_lexer": "ipython3",
   "version": "3.9.6"
  }
 },
 "nbformat": 4,
 "nbformat_minor": 2
}
