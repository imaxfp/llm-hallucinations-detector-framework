{
 "cells": [
  {
   "cell_type": "code",
   "execution_count": 1,
   "metadata": {},
   "outputs": [
    {
     "name": "stderr",
     "output_type": "stream",
     "text": [
      "2024-11-06 20:00:06,052 - INFO - ====> Generate Structural Hallucination\n",
      "2024-11-06 20:00:06,053 - INFO - Read entities from file\n",
      "2024-11-06 20:00:06,128 - INFO - Time taken for parsing entities: 0.08 seconds\n",
      "2024-11-06 20:00:06,129 - INFO - Chat with Ollama, get responses from the models\n",
      "2024-11-06 20:00:20,491 - INFO - HTTP Request: POST http://127.0.0.1:11434/api/chat \"HTTP/1.1 200 OK\"\n",
      "2024-11-06 20:00:20,492 - INFO - HTTP Request: POST http://127.0.0.1:11434/api/chat \"HTTP/1.1 200 OK\"\n",
      "2024-11-06 20:00:23,954 - INFO - Time taken for chatting with models: 17.82 seconds\n",
      "2024-11-06 20:00:23,956 - INFO - Answers to embeddings\n",
      "2024-11-06 20:00:24,327 - INFO - HTTP Request: POST http://127.0.0.1:11434/api/embed \"HTTP/1.1 200 OK\"\n",
      "2024-11-06 20:00:24,696 - INFO - HTTP Request: POST http://127.0.0.1:11434/api/embed \"HTTP/1.1 200 OK\"\n",
      "2024-11-06 20:00:24,702 - INFO - Time taken for chatting with models: 0.75 seconds\n",
      "2024-11-06 20:00:24,703 - INFO - Store results\n",
      "2024-11-06 20:00:24,721 - INFO - Time taken for storing results: 0.02 seconds\n",
      "2024-11-06 20:00:24,722 - INFO - Time taken for total execution: 18.67 seconds\n"
     ]
    }
   ],
   "source": [
    "import logging\n",
    "from src.services.ollama_service import LLM_MODELS, OllamaChat\n",
    "START_LINE = 0\n",
    "STOP_LINE = 2\n",
    "USED_MODELS = \"_\".join(LLM_MODELS)\n",
    "\n",
    "ollamaChat = OllamaChat()\n",
    "\n",
    "logging.info(\"====> Generate Structural Hallucination\")\n",
    "prompt_rule = \"Your have to generate 'Structural Hallucination' hallucination in your response. Structural Hallucination: The model produces erroneous information based on flawed structural reasoning or logic, which results in plausible-sounding but incorrect conclusions\"\n",
    "ollamaChat.chat_ollama_get_llm_answers_with_embedding_save_response(\"./data/Natural-Questions-Base_long_answer_min_words_50_max_words_70.csv\",\n",
    "                                                                    f\"./data/llm_responses/NQ-llm-structural_hallucination_{USED_MODELS}.csv\",\n",
    "                                                                    prompt_rule,\n",
    "                                                                    START_LINE,\n",
    "                                                                    STOP_LINE)"
   ]
  }
 ],
 "metadata": {
  "kernelspec": {
   "display_name": "Python 3",
   "language": "python",
   "name": "python3"
  },
  "language_info": {
   "codemirror_mode": {
    "name": "ipython",
    "version": 3
   },
   "file_extension": ".py",
   "mimetype": "text/x-python",
   "name": "python",
   "nbconvert_exporter": "python",
   "pygments_lexer": "ipython3",
   "version": "3.9.6"
  }
 },
 "nbformat": 4,
 "nbformat_minor": 2
}
