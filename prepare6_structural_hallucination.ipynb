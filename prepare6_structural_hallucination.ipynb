{
 "cells": [
  {
   "cell_type": "code",
   "execution_count": null,
   "metadata": {},
   "outputs": [
    {
     "name": "stderr",
     "output_type": "stream",
     "text": [
      "2024-10-29 10:22:17,366 - INFO - ====> Generate Needle in a Haystack\n",
      "2024-10-29 10:22:17,366 - INFO - Read entities from file\n",
      "2024-10-29 10:22:17,377 - INFO - Time taken for parsing entities: 0.01 seconds\n",
      "2024-10-29 10:22:17,377 - INFO - Chat with Ollama, get responses from the models\n",
      "2024-10-29 10:22:23,366 - INFO - HTTP Request: POST http://127.0.0.1:11434/api/chat \"HTTP/1.1 200 OK\"\n",
      "2024-10-29 10:22:23,368 - INFO - HTTP Request: POST http://127.0.0.1:11434/api/chat \"HTTP/1.1 200 OK\"\n",
      "2024-10-29 10:22:23,368 - INFO - HTTP Request: POST http://127.0.0.1:11434/api/chat \"HTTP/1.1 200 OK\"\n",
      "2024-10-29 10:22:23,368 - INFO - HTTP Request: POST http://127.0.0.1:11434/api/chat \"HTTP/1.1 200 OK\"\n"
     ]
    }
   ],
   "source": [
    "import logging\n",
    "from src.services.ollama_service import LLM_MODELS, OllamaChat\n",
    "START_LINE = 0\n",
    "STOP_LINE = 20\n",
    "USED_MODELS = \"_\".join(LLM_MODELS)\n",
    "\n",
    "ollamaChat = OllamaChat()\n",
    "\n",
    "logging.info(\"====> Generate Structural Hallucination\")\n",
    "prompt_rule = \"Your have to generate 'Structural Hallucination' hallucination in your response. Structural Hallucination: The model produces erroneous information based on flawed structural reasoning or logic, which results in plausible-sounding but incorrect conclusions\"\n",
    "ollamaChat.chat_ollama_get_llm_answers_with_embedding_save_response(\"./data/Natural-Questions-Base-2k.csv\",\n",
    "                                                                    f\"./data/llm_responses/NQ-llm-structural_hallucination_{USED_MODELS}.csv\",\n",
    "                                                                    prompt_rule,\n",
    "                                                                    START_LINE,\n",
    "                                                                    STOP_LINE)"
   ]
  }
 ],
 "metadata": {
  "kernelspec": {
   "display_name": "Python 3",
   "language": "python",
   "name": "python3"
  },
  "language_info": {
   "codemirror_mode": {
    "name": "ipython",
    "version": 3
   },
   "file_extension": ".py",
   "mimetype": "text/x-python",
   "name": "python",
   "nbconvert_exporter": "python",
   "pygments_lexer": "ipython3",
   "version": "3.9.6"
  }
 },
 "nbformat": 4,
 "nbformat_minor": 2
}
